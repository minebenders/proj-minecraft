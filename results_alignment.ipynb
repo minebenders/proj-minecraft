{
 "cells": [
  {
   "cell_type": "code",
   "execution_count": 1,
   "metadata": {},
   "outputs": [],
   "source": [
    "import pandas as pd"
   ]
  },
  {
   "cell_type": "code",
   "execution_count": 2,
   "metadata": {},
   "outputs": [],
   "source": [
    "df1 = pd.read_csv('data/appeals_01_matched.csv')"
   ]
  },
  {
   "cell_type": "code",
   "execution_count": 3,
   "metadata": {},
   "outputs": [],
   "source": [
    "df2 = pd.read_csv('data/appeals_00.csv')"
   ]
  },
  {
   "cell_type": "code",
   "execution_count": 4,
   "metadata": {},
   "outputs": [
    {
     "data": {
      "text/html": [
       "<div>\n",
       "<style scoped>\n",
       "    .dataframe tbody tr th:only-of-type {\n",
       "        vertical-align: middle;\n",
       "    }\n",
       "\n",
       "    .dataframe tbody tr th {\n",
       "        vertical-align: top;\n",
       "    }\n",
       "\n",
       "    .dataframe thead th {\n",
       "        text-align: right;\n",
       "    }\n",
       "</style>\n",
       "<table border=\"1\" class=\"dataframe\">\n",
       "  <thead>\n",
       "    <tr style=\"text-align: right;\">\n",
       "      <th></th>\n",
       "      <th>Unnamed: 0</th>\n",
       "      <th>unique_ref</th>\n",
       "      <th>containing_sentences</th>\n",
       "      <th>Q&amp;A</th>\n",
       "      <th>is_substring</th>\n",
       "      <th>is_pr_above_95</th>\n",
       "      <th>pr</th>\n",
       "    </tr>\n",
       "  </thead>\n",
       "  <tbody>\n",
       "    <tr>\n",
       "      <th>0</th>\n",
       "      <td>0</td>\n",
       "      <td>[2000] SGCA 8 CHIN SIONG KIAN</td>\n",
       "      <td>In the premises, we found the charge against t...</td>\n",
       "      <td>In the premises, we found the charge against t...</td>\n",
       "      <td>True</td>\n",
       "      <td>True</td>\n",
       "      <td>100</td>\n",
       "    </tr>\n",
       "    <tr>\n",
       "      <th>1</th>\n",
       "      <td>1</td>\n",
       "      <td>[2019] SGCA 81 MOHD AKEBAL S/O GHULAM JILANI</td>\n",
       "      <td>Akebal ’s appeal is therefore without merit an...</td>\n",
       "      <td>Akebal’s appeal is therefore without merit and...</td>\n",
       "      <td>False</td>\n",
       "      <td>True</td>\n",
       "      <td>99</td>\n",
       "    </tr>\n",
       "    <tr>\n",
       "      <th>2</th>\n",
       "      <td>2</td>\n",
       "      <td>[2019] SGCA 81 MOHAMMED RUSLI BIN ABDUL RAHMAN</td>\n",
       "      <td>Akebal ’s appeal is therefore without merit an...</td>\n",
       "      <td>For these reasons, we dismiss the appeals.</td>\n",
       "      <td>False</td>\n",
       "      <td>False</td>\n",
       "      <td>43</td>\n",
       "    </tr>\n",
       "    <tr>\n",
       "      <th>3</th>\n",
       "      <td>3</td>\n",
       "      <td>[1991] SGCA 14 SIM AH CHEOH</td>\n",
       "      <td>In our opinion, any cross - examination conduc...</td>\n",
       "      <td>In the result, all the arguments advanced on b...</td>\n",
       "      <td>False</td>\n",
       "      <td>False</td>\n",
       "      <td>42</td>\n",
       "    </tr>\n",
       "    <tr>\n",
       "      <th>4</th>\n",
       "      <td>4</td>\n",
       "      <td>[1992] SGCA 30 KO MUN CHEUNG</td>\n",
       "      <td>They also rejected Ko ’s defence that he did n...</td>\n",
       "      <td>Against the convictions, this appeal was broug...</td>\n",
       "      <td>False</td>\n",
       "      <td>True</td>\n",
       "      <td>99</td>\n",
       "    </tr>\n",
       "  </tbody>\n",
       "</table>\n",
       "</div>"
      ],
      "text/plain": [
       "   Unnamed: 0                                      unique_ref  \\\n",
       "0           0                   [2000] SGCA 8 CHIN SIONG KIAN   \n",
       "1           1    [2019] SGCA 81 MOHD AKEBAL S/O GHULAM JILANI   \n",
       "2           2  [2019] SGCA 81 MOHAMMED RUSLI BIN ABDUL RAHMAN   \n",
       "3           3                     [1991] SGCA 14 SIM AH CHEOH   \n",
       "4           4                    [1992] SGCA 30 KO MUN CHEUNG   \n",
       "\n",
       "                                containing_sentences  \\\n",
       "0  In the premises, we found the charge against t...   \n",
       "1  Akebal ’s appeal is therefore without merit an...   \n",
       "2  Akebal ’s appeal is therefore without merit an...   \n",
       "3  In our opinion, any cross - examination conduc...   \n",
       "4  They also rejected Ko ’s defence that he did n...   \n",
       "\n",
       "                                                 Q&A  is_substring  \\\n",
       "0  In the premises, we found the charge against t...          True   \n",
       "1  Akebal’s appeal is therefore without merit and...         False   \n",
       "2         For these reasons, we dismiss the appeals.         False   \n",
       "3  In the result, all the arguments advanced on b...         False   \n",
       "4  Against the convictions, this appeal was broug...         False   \n",
       "\n",
       "   is_pr_above_95   pr  \n",
       "0            True  100  \n",
       "1            True   99  \n",
       "2           False   43  \n",
       "3           False   42  \n",
       "4            True   99  "
      ]
     },
     "execution_count": 4,
     "metadata": {},
     "output_type": "execute_result"
    }
   ],
   "source": [
    "df1.head()"
   ]
  },
  {
   "cell_type": "code",
   "execution_count": 5,
   "metadata": {},
   "outputs": [
    {
     "data": {
      "text/html": [
       "<div>\n",
       "<style scoped>\n",
       "    .dataframe tbody tr th:only-of-type {\n",
       "        vertical-align: middle;\n",
       "    }\n",
       "\n",
       "    .dataframe tbody tr th {\n",
       "        vertical-align: top;\n",
       "    }\n",
       "\n",
       "    .dataframe thead th {\n",
       "        text-align: right;\n",
       "    }\n",
       "</style>\n",
       "<table border=\"1\" class=\"dataframe\">\n",
       "  <thead>\n",
       "    <tr style=\"text-align: right;\">\n",
       "      <th></th>\n",
       "      <th>Unnamed: 0</th>\n",
       "      <th>unique_ref</th>\n",
       "      <th>appeal_prediction</th>\n",
       "      <th>appeal was dimissed</th>\n",
       "    </tr>\n",
       "  </thead>\n",
       "  <tbody>\n",
       "    <tr>\n",
       "      <th>0</th>\n",
       "      <td>0</td>\n",
       "      <td>[2000] SGCA 8 CHIN SIONG KIAN</td>\n",
       "      <td>dismissed the appeal</td>\n",
       "      <td>1</td>\n",
       "    </tr>\n",
       "    <tr>\n",
       "      <th>1</th>\n",
       "      <td>1</td>\n",
       "      <td>[2019] SGCA 81 MOHD AKEBAL S/O GHULAM JILANI</td>\n",
       "      <td>Akebal’s appeal is therefore without merit and...</td>\n",
       "      <td>1</td>\n",
       "    </tr>\n",
       "    <tr>\n",
       "      <th>2</th>\n",
       "      <td>2</td>\n",
       "      <td>[2019] SGCA 81 MOHAMMED RUSLI BIN ABDUL RAHMAN</td>\n",
       "      <td>Akebal’s appeal is therefore without merit and...</td>\n",
       "      <td>-1</td>\n",
       "    </tr>\n",
       "    <tr>\n",
       "      <th>3</th>\n",
       "      <td>3</td>\n",
       "      <td>[1991] SGCA 14 SIM AH CHEOH</td>\n",
       "      <td>dismissed it</td>\n",
       "      <td>1</td>\n",
       "    </tr>\n",
       "    <tr>\n",
       "      <th>4</th>\n",
       "      <td>4</td>\n",
       "      <td>[1992] SGCA 30 KO MUN CHEUNG</td>\n",
       "      <td>At the conclusion we dismissed it</td>\n",
       "      <td>1</td>\n",
       "    </tr>\n",
       "  </tbody>\n",
       "</table>\n",
       "</div>"
      ],
      "text/plain": [
       "   Unnamed: 0                                      unique_ref  \\\n",
       "0           0                   [2000] SGCA 8 CHIN SIONG KIAN   \n",
       "1           1    [2019] SGCA 81 MOHD AKEBAL S/O GHULAM JILANI   \n",
       "2           2  [2019] SGCA 81 MOHAMMED RUSLI BIN ABDUL RAHMAN   \n",
       "3           3                     [1991] SGCA 14 SIM AH CHEOH   \n",
       "4           4                    [1992] SGCA 30 KO MUN CHEUNG   \n",
       "\n",
       "                                   appeal_prediction  appeal was dimissed  \n",
       "0                               dismissed the appeal                    1  \n",
       "1  Akebal’s appeal is therefore without merit and...                    1  \n",
       "2  Akebal’s appeal is therefore without merit and...                   -1  \n",
       "3                                       dismissed it                    1  \n",
       "4                  At the conclusion we dismissed it                    1  "
      ]
     },
     "execution_count": 5,
     "metadata": {},
     "output_type": "execute_result"
    }
   ],
   "source": [
    "df2.head()"
   ]
  },
  {
   "cell_type": "code",
   "execution_count": 11,
   "metadata": {},
   "outputs": [
    {
     "name": "stdout",
     "output_type": "stream",
     "text": [
      "128\n",
      "131\n"
     ]
    }
   ],
   "source": [
    "print(len(df1))\n",
    "print(len(df2))"
   ]
  },
  {
   "cell_type": "code",
   "execution_count": 6,
   "metadata": {},
   "outputs": [
    {
     "data": {
      "text/html": [
       "<div>\n",
       "<style scoped>\n",
       "    .dataframe tbody tr th:only-of-type {\n",
       "        vertical-align: middle;\n",
       "    }\n",
       "\n",
       "    .dataframe tbody tr th {\n",
       "        vertical-align: top;\n",
       "    }\n",
       "\n",
       "    .dataframe thead th {\n",
       "        text-align: right;\n",
       "    }\n",
       "</style>\n",
       "<table border=\"1\" class=\"dataframe\">\n",
       "  <thead>\n",
       "    <tr style=\"text-align: right;\">\n",
       "      <th></th>\n",
       "      <th>Unnamed: 0_x</th>\n",
       "      <th>unique_ref</th>\n",
       "      <th>appeal_prediction</th>\n",
       "      <th>appeal was dimissed</th>\n",
       "      <th>Unnamed: 0_y</th>\n",
       "      <th>containing_sentences</th>\n",
       "      <th>Q&amp;A</th>\n",
       "      <th>is_substring</th>\n",
       "      <th>is_pr_above_95</th>\n",
       "      <th>pr</th>\n",
       "    </tr>\n",
       "  </thead>\n",
       "  <tbody>\n",
       "    <tr>\n",
       "      <th>0</th>\n",
       "      <td>0</td>\n",
       "      <td>[2000] SGCA 8 CHIN SIONG KIAN</td>\n",
       "      <td>dismissed the appeal</td>\n",
       "      <td>1</td>\n",
       "      <td>0.0</td>\n",
       "      <td>In the premises, we found the charge against t...</td>\n",
       "      <td>In the premises, we found the charge against t...</td>\n",
       "      <td>True</td>\n",
       "      <td>True</td>\n",
       "      <td>100.0</td>\n",
       "    </tr>\n",
       "    <tr>\n",
       "      <th>1</th>\n",
       "      <td>1</td>\n",
       "      <td>[2019] SGCA 81 MOHD AKEBAL S/O GHULAM JILANI</td>\n",
       "      <td>Akebal’s appeal is therefore without merit and...</td>\n",
       "      <td>1</td>\n",
       "      <td>1.0</td>\n",
       "      <td>Akebal ’s appeal is therefore without merit an...</td>\n",
       "      <td>Akebal’s appeal is therefore without merit and...</td>\n",
       "      <td>False</td>\n",
       "      <td>True</td>\n",
       "      <td>99.0</td>\n",
       "    </tr>\n",
       "    <tr>\n",
       "      <th>2</th>\n",
       "      <td>2</td>\n",
       "      <td>[2019] SGCA 81 MOHAMMED RUSLI BIN ABDUL RAHMAN</td>\n",
       "      <td>Akebal’s appeal is therefore without merit and...</td>\n",
       "      <td>-1</td>\n",
       "      <td>2.0</td>\n",
       "      <td>Akebal ’s appeal is therefore without merit an...</td>\n",
       "      <td>For these reasons, we dismiss the appeals.</td>\n",
       "      <td>False</td>\n",
       "      <td>False</td>\n",
       "      <td>43.0</td>\n",
       "    </tr>\n",
       "    <tr>\n",
       "      <th>3</th>\n",
       "      <td>3</td>\n",
       "      <td>[1991] SGCA 14 SIM AH CHEOH</td>\n",
       "      <td>dismissed it</td>\n",
       "      <td>1</td>\n",
       "      <td>3.0</td>\n",
       "      <td>In our opinion, any cross - examination conduc...</td>\n",
       "      <td>In the result, all the arguments advanced on b...</td>\n",
       "      <td>False</td>\n",
       "      <td>False</td>\n",
       "      <td>42.0</td>\n",
       "    </tr>\n",
       "    <tr>\n",
       "      <th>4</th>\n",
       "      <td>4</td>\n",
       "      <td>[1992] SGCA 30 KO MUN CHEUNG</td>\n",
       "      <td>At the conclusion we dismissed it</td>\n",
       "      <td>1</td>\n",
       "      <td>4.0</td>\n",
       "      <td>They also rejected Ko ’s defence that he did n...</td>\n",
       "      <td>Against the convictions, this appeal was broug...</td>\n",
       "      <td>False</td>\n",
       "      <td>True</td>\n",
       "      <td>99.0</td>\n",
       "    </tr>\n",
       "  </tbody>\n",
       "</table>\n",
       "</div>"
      ],
      "text/plain": [
       "   Unnamed: 0_x                                      unique_ref  \\\n",
       "0             0                   [2000] SGCA 8 CHIN SIONG KIAN   \n",
       "1             1    [2019] SGCA 81 MOHD AKEBAL S/O GHULAM JILANI   \n",
       "2             2  [2019] SGCA 81 MOHAMMED RUSLI BIN ABDUL RAHMAN   \n",
       "3             3                     [1991] SGCA 14 SIM AH CHEOH   \n",
       "4             4                    [1992] SGCA 30 KO MUN CHEUNG   \n",
       "\n",
       "                                   appeal_prediction  appeal was dimissed  \\\n",
       "0                               dismissed the appeal                    1   \n",
       "1  Akebal’s appeal is therefore without merit and...                    1   \n",
       "2  Akebal’s appeal is therefore without merit and...                   -1   \n",
       "3                                       dismissed it                    1   \n",
       "4                  At the conclusion we dismissed it                    1   \n",
       "\n",
       "   Unnamed: 0_y                               containing_sentences  \\\n",
       "0           0.0  In the premises, we found the charge against t...   \n",
       "1           1.0  Akebal ’s appeal is therefore without merit an...   \n",
       "2           2.0  Akebal ’s appeal is therefore without merit an...   \n",
       "3           3.0  In our opinion, any cross - examination conduc...   \n",
       "4           4.0  They also rejected Ko ’s defence that he did n...   \n",
       "\n",
       "                                                 Q&A is_substring  \\\n",
       "0  In the premises, we found the charge against t...         True   \n",
       "1  Akebal’s appeal is therefore without merit and...        False   \n",
       "2         For these reasons, we dismiss the appeals.        False   \n",
       "3  In the result, all the arguments advanced on b...        False   \n",
       "4  Against the convictions, this appeal was broug...        False   \n",
       "\n",
       "  is_pr_above_95     pr  \n",
       "0           True  100.0  \n",
       "1           True   99.0  \n",
       "2          False   43.0  \n",
       "3          False   42.0  \n",
       "4           True   99.0  "
      ]
     },
     "execution_count": 6,
     "metadata": {},
     "output_type": "execute_result"
    }
   ],
   "source": [
    "df3 = pd.merge(df2, df1, on=\"unique_ref\", how=\"left\")\n",
    "df3.head()"
   ]
  },
  {
   "cell_type": "code",
   "execution_count": 7,
   "metadata": {},
   "outputs": [
    {
     "data": {
      "text/plain": [
       "131"
      ]
     },
     "execution_count": 7,
     "metadata": {},
     "output_type": "execute_result"
    }
   ],
   "source": [
    "len(df3)"
   ]
  },
  {
   "cell_type": "code",
   "execution_count": 11,
   "metadata": {},
   "outputs": [
    {
     "data": {
      "text/html": [
       "<div>\n",
       "<style scoped>\n",
       "    .dataframe tbody tr th:only-of-type {\n",
       "        vertical-align: middle;\n",
       "    }\n",
       "\n",
       "    .dataframe tbody tr th {\n",
       "        vertical-align: top;\n",
       "    }\n",
       "\n",
       "    .dataframe thead th {\n",
       "        text-align: right;\n",
       "    }\n",
       "</style>\n",
       "<table border=\"1\" class=\"dataframe\">\n",
       "  <thead>\n",
       "    <tr style=\"text-align: right;\">\n",
       "      <th></th>\n",
       "      <th>unique_ref</th>\n",
       "      <th>containing_sentences</th>\n",
       "      <th>Q&amp;A</th>\n",
       "      <th>is_pr_above_95</th>\n",
       "      <th>pr</th>\n",
       "    </tr>\n",
       "  </thead>\n",
       "  <tbody>\n",
       "    <tr>\n",
       "      <th>0</th>\n",
       "      <td>[2000] SGCA 8 CHIN SIONG KIAN</td>\n",
       "      <td>In the premises, we found the charge against t...</td>\n",
       "      <td>In the premises, we found the charge against t...</td>\n",
       "      <td>True</td>\n",
       "      <td>100.0</td>\n",
       "    </tr>\n",
       "    <tr>\n",
       "      <th>1</th>\n",
       "      <td>[2019] SGCA 81 MOHD AKEBAL S/O GHULAM JILANI</td>\n",
       "      <td>Akebal ’s appeal is therefore without merit an...</td>\n",
       "      <td>Akebal’s appeal is therefore without merit and...</td>\n",
       "      <td>True</td>\n",
       "      <td>99.0</td>\n",
       "    </tr>\n",
       "    <tr>\n",
       "      <th>2</th>\n",
       "      <td>[2019] SGCA 81 MOHAMMED RUSLI BIN ABDUL RAHMAN</td>\n",
       "      <td>Akebal ’s appeal is therefore without merit an...</td>\n",
       "      <td>For these reasons, we dismiss the appeals.</td>\n",
       "      <td>False</td>\n",
       "      <td>43.0</td>\n",
       "    </tr>\n",
       "    <tr>\n",
       "      <th>3</th>\n",
       "      <td>[1991] SGCA 14 SIM AH CHEOH</td>\n",
       "      <td>In our opinion, any cross - examination conduc...</td>\n",
       "      <td>In the result, all the arguments advanced on b...</td>\n",
       "      <td>False</td>\n",
       "      <td>42.0</td>\n",
       "    </tr>\n",
       "    <tr>\n",
       "      <th>4</th>\n",
       "      <td>[1992] SGCA 30 KO MUN CHEUNG</td>\n",
       "      <td>They also rejected Ko ’s defence that he did n...</td>\n",
       "      <td>Against the convictions, this appeal was broug...</td>\n",
       "      <td>True</td>\n",
       "      <td>99.0</td>\n",
       "    </tr>\n",
       "  </tbody>\n",
       "</table>\n",
       "</div>"
      ],
      "text/plain": [
       "                                       unique_ref  \\\n",
       "0                   [2000] SGCA 8 CHIN SIONG KIAN   \n",
       "1    [2019] SGCA 81 MOHD AKEBAL S/O GHULAM JILANI   \n",
       "2  [2019] SGCA 81 MOHAMMED RUSLI BIN ABDUL RAHMAN   \n",
       "3                     [1991] SGCA 14 SIM AH CHEOH   \n",
       "4                    [1992] SGCA 30 KO MUN CHEUNG   \n",
       "\n",
       "                                containing_sentences  \\\n",
       "0  In the premises, we found the charge against t...   \n",
       "1  Akebal ’s appeal is therefore without merit an...   \n",
       "2  Akebal ’s appeal is therefore without merit an...   \n",
       "3  In our opinion, any cross - examination conduc...   \n",
       "4  They also rejected Ko ’s defence that he did n...   \n",
       "\n",
       "                                                 Q&A is_pr_above_95     pr  \n",
       "0  In the premises, we found the charge against t...           True  100.0  \n",
       "1  Akebal’s appeal is therefore without merit and...           True   99.0  \n",
       "2         For these reasons, we dismiss the appeals.          False   43.0  \n",
       "3  In the result, all the arguments advanced on b...          False   42.0  \n",
       "4  Against the convictions, this appeal was broug...           True   99.0  "
      ]
     },
     "execution_count": 11,
     "metadata": {},
     "output_type": "execute_result"
    }
   ],
   "source": [
    "df4 = df3.drop(labels=[\"Unnamed: 0_x\", \"appeal_prediction\", \"appeal was dimissed\", \"Unnamed: 0_y\", \"is_substring\"], axis='columns')\n",
    "df4.head()"
   ]
  },
  {
   "cell_type": "code",
   "execution_count": 12,
   "metadata": {},
   "outputs": [
    {
     "data": {
      "text/plain": [
       "131"
      ]
     },
     "execution_count": 12,
     "metadata": {},
     "output_type": "execute_result"
    }
   ],
   "source": [
    "len(df4)"
   ]
  },
  {
   "cell_type": "code",
   "execution_count": 13,
   "metadata": {},
   "outputs": [
    {
     "name": "stdin",
     "output_type": "stream",
     "text": [
      "enter path to save csv file: data/appeals_01_matched_aligned.csv\n"
     ]
    }
   ],
   "source": [
    "path = input(\"enter path to save csv file:\")\n",
    "df4.to_csv(path, index=False)"
   ]
  },
  {
   "cell_type": "code",
   "execution_count": null,
   "metadata": {},
   "outputs": [],
   "source": []
  }
 ],
 "metadata": {
  "kernelspec": {
   "display_name": "projmc",
   "language": "python",
   "name": "projmc"
  },
  "language_info": {
   "codemirror_mode": {
    "name": "ipython",
    "version": 3
   },
   "file_extension": ".py",
   "mimetype": "text/x-python",
   "name": "python",
   "nbconvert_exporter": "python",
   "pygments_lexer": "ipython3",
   "version": "3.7.4"
  }
 },
 "nbformat": 4,
 "nbformat_minor": 4
}
