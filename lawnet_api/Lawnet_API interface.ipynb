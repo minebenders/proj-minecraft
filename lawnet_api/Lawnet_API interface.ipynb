{
 "cells": [
  {
   "cell_type": "code",
   "execution_count": 1,
   "metadata": {},
   "outputs": [
    {
     "data": {
      "application/vnd.jupyter.widget-view+json": {
       "model_id": "63904bd0d0f741d1a46f4dd7192c2e9b",
       "version_major": 2,
       "version_minor": 0
      },
      "text/plain": [
       "interactive(children=(Text(value='', description='Search Term'), IntSlider(value=20, description='Results per …"
      ]
     },
     "metadata": {},
     "output_type": "display_data"
    }
   ],
   "source": [
    "from __future__ import print_function\n",
    "from ipywidgets import interactive\n",
    "import ipywidgets as widgets\n",
    "from search import Post\n",
    "\n",
    "def search_wrapper(searchTerm, maxperpage, page, surroundingWords, orderBy):\n",
    "    return Post.search(searchTerm, maxperpage=maxperpage, page=page,\n",
    "                       surroundingWords=surroundingWords, orderBy=orderBy)\n",
    "\n",
    "style = {'description_width': 'initial'}\n",
    "w = interactive(search_wrapper, {'manual': True},\n",
    "                    searchTerm=widgets.Text(value='', description='Search Term'),\n",
    "                    page=widgets.IntSlider(description='Page number', value=1, min=1, max=20, step=1, style=style),\n",
    "                    maxperpage=widgets.IntSlider(description='Results per page', min=1, max=999, step=10, value=20, style=style),\n",
    "                    surroundingWords=widgets.IntSlider(description='Search distance', min=1, max=30, step=1, value=10, style=style),\n",
    "                    orderBy=widgets.Dropdown(description='Sort by', value='relevance', options=['relevance', 'title-asc', 'title-des', 'date-asc', 'date-des']))\n",
    "display(w)"
   ]
  },
  {
   "cell_type": "code",
   "execution_count": 3,
   "metadata": {},
   "outputs": [
    {
     "data": {
      "text/plain": [
       "([[2005] SGCA 59...,\n",
       "  [2005] SGHC 86...,\n",
       "  [2007] SGCA 37...,\n",
       "  [2006] SGHC 229...,\n",
       "  [2008] SGCA 23...,\n",
       "  [2011] SGCA 2...,\n",
       "  [2013] SGCA 29...,\n",
       "  [2014] SGHC 160...,\n",
       "  [2013] SGHC 231...,\n",
       "  [2014] SGCA 34...,\n",
       "  [2012] SGCA 17...,\n",
       "  [2015] SGHC 125...,\n",
       "  [2015] SGHC 146...,\n",
       "  [2014] SGHC 129...,\n",
       "  [2015] SGDC 50...,\n",
       "  [2011] SGCA 39...,\n",
       "  [2014] SGDC 278...,\n",
       "  [2014] SGCA 6...,\n",
       "  [2014] SGHC 177...,\n",
       "  [2008] SGCA 24...],\n",
       " {'total': '91', 'paginationCount': '91', 'page': 1},\n",
       " <Response [200]>)"
      ]
     },
     "metadata": {},
     "output_type": "display_data"
    }
   ],
   "source": [
    "display(w.result)"
   ]
  },
  {
   "cell_type": "code",
   "execution_count": 4,
   "metadata": {},
   "outputs": [
    {
     "data": {
      "application/vnd.jupyter.widget-view+json": {
       "model_id": "bd3030ae944a473a8951cb2a2e3d4782",
       "version_major": 2,
       "version_minor": 0
      },
      "text/plain": [
       "interactive(children=(SelectMultiple(description='resultList', layout=Layout(width='70%'), options=([2005] SGC…"
      ]
     },
     "metadata": {},
     "output_type": "display_data"
    }
   ],
   "source": [
    "from pathlib import Path\n",
    "from ipywidgets import Layout\n",
    "\n",
    "style = {'description_width': 'initial'}\n",
    "\n",
    "def download_wrapper(resultList):\n",
    "    path = Path('download/').mkdir(exist_ok=True)\n",
    "    for result in resultList:\n",
    "        curr_path = Path('download/') / (result.title + '.html')\n",
    "        with open(curr_path, 'wb') as wr:\n",
    "            wr.write(result.download())\n",
    "            \n",
    "d = interactive(download_wrapper, {'manual': True},\n",
    "                resultList=widgets.SelectMultiple(options=w.result[0], style=style,\n",
    "                                                  layout=Layout(width='70%'))\n",
    "               )\n",
    "\n",
    "display(d)"
   ]
  }
 ],
 "metadata": {
  "kernelspec": {
   "display_name": "Python 3",
   "language": "python",
   "name": "python3"
  },
  "language_info": {
   "codemirror_mode": {
    "name": "ipython",
    "version": 3
   },
   "file_extension": ".py",
   "mimetype": "text/x-python",
   "name": "python",
   "nbconvert_exporter": "python",
   "pygments_lexer": "ipython3",
   "version": "3.7.6"
  }
 },
 "nbformat": 4,
 "nbformat_minor": 4
}
