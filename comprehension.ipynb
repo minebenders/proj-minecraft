{
 "cells": [
  {
   "cell_type": "code",
   "execution_count": 6,
   "metadata": {},
   "outputs": [],
   "source": [
    "from allennlp.predictors.predictor import Predictor as AllenNLPPredictor\n",
    "\n",
    "\n",
    "class PythonPredictor:\n",
    "    def __init__(self, config=None):\n",
    "        self.predictor = AllenNLPPredictor.from_path(\n",
    "            \"../pretrained/bidaf-elmo-model-2018.11.30-charpad.tar.gz\"\n",
    "        )\n",
    "\n",
    "    def predict(self, payload):\n",
    "        \"\"\"\n",
    "        :param payload: dict containing the keys \"passage\" and \"question\" - both keys point to string values. \n",
    "        \"passage\" refers to the source doc that the model will look at while \"question\" refers to the question \n",
    "        asked to the model.\n",
    "        :returns: a string representing the most probable answer, according to the model.\n",
    "        \"\"\"\n",
    "        prediction = self.predictor.predict(\n",
    "            passage=payload[\"passage\"], question=payload[\"question\"]\n",
    "        )\n",
    "        return prediction[\"best_span_str\"]\n"
   ]
  },
  {
   "cell_type": "code",
   "execution_count": 7,
   "metadata": {},
   "outputs": [
    {
     "name": "stderr",
     "output_type": "stream",
     "text": [
      "_jsonnet not loaded, treating C:\\Users\\Melvin\\AppData\\Local\\Temp\\tmpl2i87cjg\\config.json as json\n",
      "_jsonnet not loaded, treating snippet as json\n",
      "C:\\Users\\Melvin\\Desktop\\Misc\\Programming\\Proj MineCraft\\proj-minecraft\\env\\lib\\site-packages\\torch\\nn\\modules\\rnn.py:50: UserWarning: dropout option adds dropout after all but last recurrent layer, so non-zero dropout expects num_layers greater than 1, but got dropout=0.2 and num_layers=1\n",
      "  \"num_layers={}\".format(dropout, num_layers))\n",
      "C:\\Users\\Melvin\\Desktop\\Misc\\Programming\\Proj MineCraft\\proj-minecraft\\env\\lib\\site-packages\\allennlp\\data\\token_indexers\\token_characters_indexer.py:56: UserWarning: You are using the default value (0) of `min_padding_length`, which can cause some subtle bugs (more info see https://github.com/allenai/allennlp/issues/1954). Strongly recommend to set a value, usually the maximum size of the convolutional layer size when using CnnEncoder.\n",
      "  UserWarning)\n"
     ]
    }
   ],
   "source": [
    "predictor = PythonPredictor()"
   ]
  },
  {
   "cell_type": "code",
   "execution_count": 8,
   "metadata": {},
   "outputs": [
    {
     "name": "stdout",
     "output_type": "stream",
     "text": [
      "14\n"
     ]
    }
   ],
   "source": [
    "psg = \"The prosecution led evidence from 14 witnesses. These witnesses comprised officers from the Central Narcotics Bureau (CNB), police officers, analysts from the Health Sciences Authority (HSA) and 4 laypersons. The 4 laypersons included Mohd Yuswi Bin Mohd Yusof (Yuswi), PW9, to whom the accused passed the drugs to and Yuswi’s 3 children. As the trafficking charges were preferred against the accused arresting from Yuswi’s arrest, it would be appropriate to begin with his arrest.\"\n",
    "qn = \"how many witnesses were there?\"\n",
    "\n",
    "payload = {\n",
    "    'passage': psg,\n",
    "    'question': qn\n",
    "}\n",
    "prediction = predictor.predict(payload)\n",
    "print(prediction)"
   ]
  },
  {
   "cell_type": "code",
   "execution_count": 9,
   "metadata": {},
   "outputs": [],
   "source": [
    "import json\n",
    "with open(\"data/qna-test.json\") as f:\n",
    "    # we do this so that we don't hold on to a system file after we\n",
    "    # have loaded the data.\n",
    "    test_data = json.load(f)"
   ]
  },
  {
   "cell_type": "code",
   "execution_count": 10,
   "metadata": {},
   "outputs": [
    {
     "name": "stdout",
     "output_type": "stream",
     "text": [
      "para: Liew Muhammad Zulkifli (the accused), male, aged 33, claimed trial and was convicted on 5 (enhanced) trafficking charges under the Misuse of Drugs Act (MDA), Chapter 185. The offences were committed on 14 April 2017, at about 11 p.m., in the vicinity of Block (Blk) 57 Lengkok Bahru, Singapore when he gave to one Mohd Yuswi Bin Mohd Yusof (Yuswi) 4 different type of Class A controlled drugs, namely 3.99 grams of methamphetamine, 1.18 grams of MDMA, 0.15 gram of ketamine, 0.58 gram methamphetamine and nimetazepam, a Class C controlled drug. (There were 9 other charges under the MDA which were stood down pending the outcome of the trial).\n",
      "\n",
      "qn: was the accused convicted of trafficking charges?\n",
      "\n",
      "predicted ans: Liew Muhammad Zulkifli\n",
      "\n",
      "para: Liew Muhammad Zulkifli (the accused), male, aged 33, claimed trial and was convicted on 5 (enhanced) trafficking charges under the Misuse of Drugs Act (MDA), Chapter 185. The offences were committed on 14 April 2017, at about 11 p.m., in the vicinity of Block (Blk) 57 Lengkok Bahru, Singapore when he gave to one Mohd Yuswi Bin Mohd Yusof (Yuswi) 4 different type of Class A controlled drugs, namely 3.99 grams of methamphetamine, 1.18 grams of MDMA, 0.15 gram of ketamine, 0.58 gram methamphetamine and nimetazepam, a Class C controlled drug. (There were 9 other charges under the MDA which were stood down pending the outcome of the trial).\n",
      "\n",
      "qn: how many grams of methamphetamine?\n",
      "\n",
      "predicted ans: 3.99\n",
      "\n",
      "para: The total amount of methamphetamine, a Class A controlled drug under the MDA, was accordingly not less than 4.25 grams. The accused admits to ownership and possession of the methamphetamine. He knew that the exhibits contained methamphetamine, bought from his supplier, â€˜Tikusâ€™, for his own consumption.\n",
      "\n",
      "qn: How much methamphetamine?\n",
      "\n",
      "predicted ans: 4.25 grams\n",
      "\n",
      "para: The total amount of methamphetamine, a Class A controlled drug under the MDA, was accordingly not less than 4.25 grams. The accused admits to ownership and possession of the methamphetamine. He knew that the exhibits contained methamphetamine, bought from his supplier, â€˜Tikusâ€™, for his own consumption.\n",
      "\n",
      "qn: Did the accused know about possession of drug?\n",
      "\n",
      "predicted ans: The accused admits to ownership and possession of the methamphetamine\n",
      "\n",
      "para: There was therefore no real defence. The appellant had not managed to rebut the presumption of trafficking in respect of any of the opium (regardless of morphine content) in her possession, save that which was conceded by the Prosecution by its exercise of prosecutorial discretion. The appellant had not been prejudiced or embarrassed in any way by the apportionment which resulted in a single capital charge being split into two non-capital ones.\n",
      "\n",
      "qn: Was the presumption of trafficking rebutted?\n",
      "\n",
      "predicted ans: The appellant had not managed to rebut the presumption of trafficking in respect of any of the opium (regardless of morphine content) in her possession, save that which was conceded by the Prosecution by its exercise of prosecutorial discretion\n",
      "\n",
      "para: There was therefore no real defence. The appellant had not managed to rebut the presumption of trafficking in respect of any of the opium (regardless of morphine content) in her possession, save that which was conceded by the Prosecution by its exercise of prosecutorial discretion. The appellant had not been prejudiced or embarrassed in any way by the apportionment which resulted in a single capital charge being split into two non-capital ones.\n",
      "\n",
      "qn: Rebut presumption of trafficking?\n",
      "\n",
      "predicted ans: The appellant had not managed to rebut the presumption of trafficking in respect of any of the opium (regardless of morphine content) in her possession, save that which was conceded by the Prosecution by its exercise of prosecutorial discretion\n",
      "\n",
      "para: The only point I would add is this: since not all the opium was tested for morphine content, it follows that the 1,200g the trafficking charge dealt with must come from the portion that was tested. In other words, the 1,200g could only be carved out of the 3,062g that was tested. This fact was not material in the present case. Since each case must depend on its own facts, I do not wish to say whether it may make any difference in other cases on different facts. For these reasons, I was of the view that there was no merit in the appeal. I accordingly dismissed it.\n",
      "\n",
      "qn: was the appeal dismissed?\n",
      "\n",
      "predicted ans: I accordingly dismissed it\n",
      "\n",
      "para: Having considered the totality of the evidence and especially the submissions made in Tanâ€™s defence, I have come to the unwavering conclusion that the presumption that Tan either knew that he was importing drugs (or at the very least was wilfully blind to that fact) has not been rebutted on a balance of probabilities. Indeed, based on the evidence adduced, Tanâ€™s guilt is axiomatic even without the application of the statutory presumptions. He knew he was importing heroin. In the circumstances, I have convicted and sentenced Tan accordingly.\n",
      "\n",
      "qn: Did the presumption of trafficking get rebutted?\n",
      "\n",
      "predicted ans: has not been rebutted on a balance of probabilities\n",
      "\n",
      "para: The MDA establishes three core evidential presumptions in connection with drug trafficking. First, a person who is proved to have had in his possession or custody or under his control a controlled drug shall, until the contrary is proved, be presumed to have had that drug in his possession: s 18(1) of the MDA. Second, if a person is proved or presumed to have had a controlled drug in his possession he shall, until the contrary is proved, be presumed to have known the nature of that drug: s 18(2) of the MDA. Third, upon proof of possession of an amount of the controlled drug in excess of a certain stipulated quantity it shall be presumed, unless it is proved to the contrary, that the possession was for the purposes of trafficking: s 17 of the MDA. These presumptions operate quite independently of one another and the unrebutted application of one presumption does not necessarily or inevitably preclude a rebuttal of the others.\n",
      "\n",
      "qn: Was the presumption of trafficking rebutted?\n",
      "\n",
      "predicted ans: rebuttal of the others\n",
      "\n"
     ]
    }
   ],
   "source": [
    "for payload in test_data:\n",
    "    prediction = predictor.predict(payload)\n",
    "    print(f\"para: {payload['passage']}\\n\")\n",
    "    print(f\"qn: {payload['question']}\\n\")\n",
    "    print(f\"predicted ans: {prediction}\\n\")"
   ]
  },
  {
   "cell_type": "markdown",
   "metadata": {},
   "source": [
    "## From extracted text (in json) to answers\n",
    "1. present whole document and query to system.\n",
    "2. search for potentially relevant paragraphs; this narrows the search space for the subsequent QnA NLP model. \n",
    "2. from these paragraphs, search for answer.\n",
    "3. print top answer (or top few answers)"
   ]
  },
  {
   "cell_type": "code",
   "execution_count": 52,
   "metadata": {},
   "outputs": [],
   "source": [
    "import re\n",
    "\n",
    "class primitiveSearchEngine:\n",
    "    def __init__(self):\n",
    "        pass\n",
    "        \n",
    "    def search(self, itr, queries):\n",
    "        \"\"\"\n",
    "        Searches for the passages/paragraphs that contain a \n",
    "        co-occurence of the exact query terms, in any order.\n",
    "        \n",
    "        :params itr: a dict containing strings to search through.\n",
    "        :params queries: a list of query terms.\n",
    "        :returns: a dict of the form, {key: search_result}.\n",
    "        \"\"\"\n",
    "        regex = \"^\"\n",
    "        for term in queries:\n",
    "            # regex = regex + term + '|'\n",
    "            regex = regex + rf\"(?=.*\\b{term}\\b)\"\n",
    "        regex = regex + \".*$\"\n",
    "        \n",
    "        # note: this regex pattern searches for the co-occurence of the\n",
    "        # exact specified terms, in any order.\n",
    "        \n",
    "        pattern = re.compile(regex)\n",
    "        \n",
    "        results = {}\n",
    "        \n",
    "        for k, v in itr.items():\n",
    "            match = pattern.search(v)\n",
    "            \n",
    "            if match:\n",
    "                results[k] = v\n",
    "        return results"
   ]
  },
  {
   "cell_type": "code",
   "execution_count": null,
   "metadata": {},
   "outputs": [],
   "source": [
    "# Porter stemming\n",
    "from nltk.stem.porter import PorterStemmer\n",
    "from nltk.tokenize import word_tokenize, sent_tokenize\n",
    "\n",
    "def tokenise(string): # works on any arbitrary string\n",
    "    tokens = []\n",
    "    for sentence in sent_tokenize(string):\n",
    "        for token in word_tokenize(sentence):\n",
    "            tokens.append(token)\n",
    "    return tokens\n",
    "\n",
    "def stem(token): # tokenizes any particular token\n",
    "    return PorterStemmer().stem(token)"
   ]
  },
  {
   "cell_type": "code",
   "execution_count": 112,
   "metadata": {
    "collapsed": true
   },
   "outputs": [
    {
     "name": "stdout",
     "output_type": "stream",
     "text": [
      "('25', 'Accordingly, we convicted the accused of the offence of attempting to export to Australia the diamorphine in the quantity as charged contrary to s 7 read with s 12 of the Act. We stood down the alternative charge. We sentenced him to death.')\n"
     ]
    }
   ],
   "source": [
    "searchEngine = primitiveSearchEngine()\n",
    "\n",
    "with open('data/sample.json') as f:\n",
    "    # open the extracted texts that were stored as json files.\n",
    "    data_dict = json.load(f)\n",
    "\n",
    "queries = ['convicted']\n",
    "\n",
    "queries = [stem(term) for term in queries] # remove if stemming doesn't help\n",
    "\n",
    "# find paragraphs related to these keywords.\n",
    "results = searchEngine.search(data_dict[0]['paragraphs'], queries)\n",
    "for item in results.items():\n",
    "    print(item)"
   ]
  },
  {
   "cell_type": "code",
   "execution_count": 116,
   "metadata": {},
   "outputs": [
    {
     "name": "stdout",
     "output_type": "stream",
     "text": [
      "diamorphine\n",
      "\n"
     ]
    }
   ],
   "source": [
    "qn = \"did the accused get convicted?\"\n",
    "\n",
    "for k, v in results.items():\n",
    "    payload = {\n",
    "        'passage': v,\n",
    "        'question': qn\n",
    "    }\n",
    "    prediction = predictor.predict(payload)\n",
    "    print(prediction + \"\\n\")"
   ]
  },
  {
   "cell_type": "code",
   "execution_count": 73,
   "metadata": {},
   "outputs": [],
   "source": [
    "# todo: use a proper search engine from some python library..\n",
    "# ..hopefully with some semantic search capabilities or pagerank.\n",
    "# ..with some advanced options like AND/OR, filters"
   ]
  },
  {
   "cell_type": "markdown",
   "metadata": {},
   "source": [
    "## Test this system on the labelled MDA dataset\n",
    "1. Compare against paragraph numbers. Did the auto system find the correct paragraph?\n",
    "2. Compare against the words in the automatic answer and the human-found answer. Is there a convergence/good overlap of the words in both answers?"
   ]
  },
  {
   "cell_type": "markdown",
   "metadata": {},
   "source": []
  }
 ],
 "metadata": {
  "kernelspec": {
   "display_name": "projmc",
   "language": "python",
   "name": "projmc"
  },
  "language_info": {
   "codemirror_mode": {
    "name": "ipython",
    "version": 3
   },
   "file_extension": ".py",
   "mimetype": "text/x-python",
   "name": "python",
   "nbconvert_exporter": "python",
   "pygments_lexer": "ipython3",
   "version": "3.7.6"
  }
 },
 "nbformat": 4,
 "nbformat_minor": 4
}
